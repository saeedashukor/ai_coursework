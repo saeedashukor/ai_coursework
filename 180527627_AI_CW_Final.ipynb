{
  "nbformat": 4,
  "nbformat_minor": 0,
  "metadata": {
    "colab": {
      "name": "180527627_AI_CW_Final.ipynb",
      "provenance": [],
      "collapsed_sections": []
    },
    "kernelspec": {
      "display_name": "Python 3",
      "language": "python",
      "name": "python3"
    },
    "language_info": {
      "codemirror_mode": {
        "name": "ipython",
        "version": 3
      },
      "file_extension": ".py",
      "mimetype": "text/x-python",
      "name": "python",
      "nbconvert_exporter": "python",
      "pygments_lexer": "ipython3",
      "version": "3.8.5"
    }
  },
  "cells": [
    {
      "cell_type": "code",
      "metadata": {
        "colab": {
          "base_uri": "https://localhost:8080/"
        },
        "id": "1WgyktBLu6W-",
        "outputId": "1f663343-4c3e-4fa3-d3b2-9ae836fc1658"
      },
      "source": [
        "# Uncomment if use Colab\n",
        "from google.colab import drive\n",
        "drive.mount('/content/gdrive', force_remount=True) #mount google drive\n"
      ],
      "execution_count": null,
      "outputs": [
        {
          "output_type": "stream",
          "text": [
            "Mounted at /content/gdrive\n"
          ],
          "name": "stdout"
        }
      ]
    },
    {
      "cell_type": "code",
      "metadata": {
        "id": "4d2kQ8WqNRwh"
      },
      "source": [
        "# Nothing better to begin with than by importing some necessary dependencies. \n",
        "%matplotlib inline\n",
        "import torch\n",
        "import matplotlib.pyplot as plt"
      ],
      "execution_count": null,
      "outputs": []
    },
    {
      "cell_type": "markdown",
      "metadata": {
        "id": "2iTuBhPKNRwm"
      },
      "source": [
        "# ECS269U/P - Coursework\n",
        "\n",
        "\n",
        "* The **goal** of the CW is similar to that of Week 2's Lab: fitting a curve to data, also known as **curve fitting**. \n",
        "* This has applications in many different disciplines that make use of AI: FinTech, Physics Modelling, or even Sports. \n",
        "* For example, we might be interested in learning the evolution (over time) of the price of a specific product in different countries. This can depend on several factors: the product itself, the country, the initial value of the product's price, etc. \n",
        "* As usual, we are interested in learning a model that finds these relationships *from the data*. \n"
      ]
    },
    {
      "cell_type": "markdown",
      "metadata": {
        "id": "ZukjW50JNRwn"
      },
      "source": [
        "### Learning a family of functions\n",
        "\n",
        "* The main difference with Week 2's Lab is that we will learn a network that does not learn a single function but a *family of functions*.\n",
        "* We will consider a family of sinusoidal functions. \n",
        "* Below you can find the code generating the data according to different random sinusoidal functions $\\{f_a\\}$. We randomly generate a set of 40 points in the x-axis in the interval $[-2, 2]$, slightly randomly shifted. Our functions will have the form of $y = f_a(x) = a * sin(x+a)$ where each $a$ will be randomly sampled for each function from interval $[-2, 2]$.  To \"draw\" a function $f_a$, we first choose some $a \\sim U(-2,2)$ and then we compute $f_a$ using the above formula for all the $x$ in the x-axis. \n"
      ]
    },
    {
      "cell_type": "code",
      "metadata": {
        "id": "3lxK0rwYNRwn"
      },
      "source": [
        "Nf = 2000 # the number of different functions f that we will generate\n",
        "Npts = 40 # the number of x values that we will use to generate each fa\n",
        "x = torch.zeros(Nf, Npts, 1)\n",
        "for k in range(Nf):\n",
        "    x[k,:,0] = torch.linspace(-2, 2, Npts)\n",
        "\n",
        "x += torch.rand_like(x)*0.1\n",
        "a = -2 + 4*torch.rand(Nf).view(-1,1).repeat(1, Npts).unsqueeze(2)\n",
        "y = a*torch.sin(x+a)"
      ],
      "execution_count": null,
      "outputs": []
    },
    {
      "cell_type": "markdown",
      "metadata": {
        "id": "Jq0EeX9cNRwo"
      },
      "source": [
        "## The Learning Goal\n",
        "\n",
        "* Because we are dealing with a family of functions and not just a single function, our model must be able to perform two tasks: *Function Selection* and *Regression*.\n",
        "* Function selection means that given some *additional* input (to be defined below) the model somehow must choose which function $f_a$ from the family of functions $\\{f_a\\}$ it needs to model.\n",
        "* Once the correct function is picked then the model must perform regression i.e. learn the relationship $y=f_a(x)$.\n",
        "\n"
      ]
    },
    {
      "cell_type": "markdown",
      "metadata": {
        "id": "rkJ9LSYWNRwp"
      },
      "source": [
        "\n",
        "## The Learning Objective\n",
        "\n",
        "* During training we randomly sample functions from the family of functions $\\{f_a\\}$. For each $f_a$, we are provided with the (input, output) pairs $(x_t, y_t), t=1,\\dots,N_{pts}$.\n",
        "\n",
        "* To perform *Function Selection*, a **random subset** of $(x_t, y_t), t=1,\\dots,N_{pts}$ is provided as auxiliary input to the model during *both training and testing*. These auxiliary data is called the *context data:* $(x_c, y_c), c=1,\\dots,N_c$. \n",
        "\n",
        "* Note that the total number of context points $N_c$ should be different (and randomly chosen) for every batch so that the model learns to handle different number of context points at test time. This means that the model should be able to work for e.g. $N_c=5$ but also for $N_c=12$ etc.\n",
        "\n",
        "* Our model will take the context pairs $(x_c, y_c)$ and input values $x_t$ and will produce the estimated values $\\hat{y}_t$. \n",
        "\n",
        "* During training we have access to the ground-truth values $y_t$, and thus we can compute a loss between the model's predictions $\\hat{y}_t$ and the ground-truth values $y_t$.  \n"
      ]
    },
    {
      "cell_type": "markdown",
      "metadata": {
        "id": "gAr6FPwWNRwp"
      },
      "source": [
        "## The Model\n",
        "\n",
        "* Our model will consists of 2 MLPs which must be jointly trained.\n",
        "* The first MLP is called the *Context Encoder* or Encoder. The Encoder will take as input each pair $(x_c, y_c)$ and will produce a corresponding feature representation $r_c$ of dimension $r_{dim}$.\n",
        "* A total context feature is produced by averaging over all features: $r_C= \\frac{1}{N}\\sum_c r_c$.\n",
        "* The second MLP is called the Decoder. It takes as input the $r_C$ and each input data $x_t$ and produces the model's prediction $\\hat{y}_t$. \n",
        "\n"
      ]
    },
    {
      "cell_type": "markdown",
      "metadata": {
        "id": "uKgPk6MbNRwp"
      },
      "source": [
        "![Encoder-Decoder](CW1.png)\n",
        "\n"
      ]
    },
    {
      "cell_type": "markdown",
      "metadata": {
        "id": "Dni9bGa2NRwp"
      },
      "source": [
        "## Architectures\n",
        "\n",
        "* The Encoder and the Decoder are **MLPs**. You can experiment with your own architectures. You can also choose to implement the following architectures:\n",
        "    * *Encoder*: It will map the input pair $(x_c, y_c)$ to some features of dimension $h_{dim}$ using 2 *hidden* layers. A final layer will produce the feature representation $r_c$ of dimension $r_{dim}$.\n",
        "    * *Decoder*: It will map the input pair $(r_C, x_t)$ to some features of dimension $h_{dim}$ using 2 *hidden* layers. A final layer will produce the model's prediction $\\hat{y}_t$."
      ]
    },
    {
      "cell_type": "markdown",
      "metadata": {
        "id": "e1COz3usNRwq"
      },
      "source": [
        "## Tasks\n",
        "\n",
        "* You have to implement the following:\n",
        "    1. Create the training dataset and dataloader (10%). \n",
        "    2. Create the Encoder and Decoder (20 + 20%). \n",
        "    3. Create the optimizer and the loss for your model (10%).\n",
        "    4. Write the training script that will train the model and print the training loss (30%).\n",
        "    5. Evaluate the model on some validation data. Plot some predictions. (10%). \n",
        "\n",
        "* You might want to explore the impact of the following design choices and hyperparameters:\n",
        "    1. Number of hidden layers and $h_{dim}$, and  $r_{dim}$.\n",
        "    1. Type of optimizer, batch-size and all relevant hyper-parameters from Week 5."
      ]
    },
    {
      "cell_type": "markdown",
      "metadata": {
        "id": "hYahMCieozFb"
      },
      "source": [
        "## 1. Create the training dataset and dataloader"
      ]
    },
    {
      "cell_type": "code",
      "metadata": {
        "id": "IO3AKqPrbCxU"
      },
      "source": [
        "%matplotlib inline\n",
        "import torch\n",
        "import matplotlib.pyplot as plt\n",
        "from torch.utils import data\n",
        "import torch.nn as nn\n",
        "import numpy as np\n"
      ],
      "execution_count": null,
      "outputs": []
    },
    {
      "cell_type": "code",
      "metadata": {
        "colab": {
          "base_uri": "https://localhost:8080/"
        },
        "id": "H_Wa8NP-m-33",
        "outputId": "a0cc5675-ff9a-42bd-d07b-3658719cf194"
      },
      "source": [
        "Nf = 2000 # the number of different functions f that we will generate\n",
        "Npts = 40 # the number of x values that we will use to generate each fa\n",
        "x = torch.zeros(Nf, Npts, 1)\n",
        "for k in range(Nf):\n",
        "    x[k,:,0] = torch.linspace(-2, 2, Npts)\n",
        "\n",
        "x += torch.rand_like(x)*0.1\n",
        "a = -2 + 4*torch.rand(Nf).view(-1,1).repeat(1, Npts).unsqueeze(2)\n",
        "y = a*torch.sin(x+a)\n",
        "\n",
        "print(x.shape)\n",
        "print(y.shape)\n",
        "\n",
        "# Training dataset & dataloader \n",
        "n_train = 1600 # 80/20 split (0.8*Nf/0.2*Nf)\n",
        "batch_size = 1\n",
        "\n",
        "train_dataset = data.TensorDataset(x[:n_train], y[:n_train]) #TensorDataset object\n",
        "train_dataloader = data.DataLoader(train_dataset, batch_size = batch_size, shuffle=True)\n",
        "print(\"Size of training data: {}\".format(len(train_dataset)))\n",
        "\n",
        "val_dataset = data.TensorDataset(x[n_train:],y[n_train:]) #TensorDataset object\n",
        "val_dataloader = data.DataLoader(val_dataset, batch_size = batch_size, shuffle=True)\n",
        "print(\"Size of validation data: {}\".format(len(val_dataset)))\n"
      ],
      "execution_count": null,
      "outputs": [
        {
          "output_type": "stream",
          "text": [
            "torch.Size([2000, 40, 1])\n",
            "torch.Size([2000, 40, 1])\n",
            "Size of training data: 1600\n",
            "Size of validation data: 400\n"
          ],
          "name": "stdout"
        }
      ]
    },
    {
      "cell_type": "markdown",
      "metadata": {
        "id": "Yts_VTsgo5y0"
      },
      "source": [
        "## 2. Create the Encoder and Decoder"
      ]
    },
    {
      "cell_type": "code",
      "metadata": {
        "id": "kWiwKgQJo7wz"
      },
      "source": [
        "import torch.nn as nn\n",
        "import torch.nn.functional as F\n",
        "\n",
        "class Net(nn.Module):\n",
        "    def __init__(self):\n",
        "        super(Net, self).__init__()\n",
        "        # Encoder\n",
        "        self.en1 = nn.Linear(2,3)\n",
        "        self.en2 = nn.Linear(3,4)\n",
        "        self.en3 = nn.Linear(4,4)\n",
        "        \n",
        "        # Decoder\n",
        "        self.dec1 = nn.Linear(2,4)\n",
        "        self.dec2 = nn.Linear(4,6)\n",
        "        self.dec3 = nn.Linear(6,1)\n",
        "        \n",
        "        # Activation function\n",
        "        self.ReLU = nn.ReLU()\n",
        "        self.Tanh = nn.Tanh()\n",
        "    \n",
        "    def encoder(self,x_c,y_c):\n",
        "        # Create feature representation r_c\n",
        "        r_c = torch.cat([x_c, y_c ], dim = 2)\n",
        "        r_c = torch.reshape(r_c, (r_c.size(1), r_c.size(2)))\n",
        "        encoder_1 = self.Tanh(self.en1(r_c)) # input -> 1st hidden layer \n",
        "        encoder_2 = self.ReLU(self.en2(encoder_1)) # 1st hidden layer -> 2nd hidden layer\n",
        "        encoder_3 = self.en3(encoder_2) # 2nd hidden layer -> output\n",
        "        return encoder_3\n",
        "    \n",
        "    def decoder(self,x_t,r_C):\n",
        "        y_hat = [] # To store predicted y_hat values\n",
        "        \n",
        "        for i in range(len(x_t)):\n",
        "            x_true = torch.tensor([x_t[i]])\n",
        "            decoder_input = torch.cat([r_C,x_true])\n",
        "            decoder_1 = self.ReLU(self.dec1(decoder_input)) # decoder input -> 1st hidden layer \n",
        "            decoder_2 = self.ReLU(self.dec2(decoder_1)) # 1st hidden layer -> 2nd hidden layer \n",
        "            decoder_3 = self.dec3(decoder_2) # 2nd hidden layer -> output\n",
        "            y_hat.append(decoder_3)\n",
        "            \n",
        "        y_hat = torch.stack(y_hat)\n",
        "        return y_hat\n",
        "                            \n",
        "    def forward(self, x_c,y_c ,x_t):\n",
        "        encoder_output = self.encoder(x_c,y_c)\n",
        "        \n",
        "        # Get r_C by averaging over all features\n",
        "        r_C = torch.tensor([torch.mean(encoder_output)])\n",
        "        x_t = x_t[0,:,0] # change the dimension from [p,q,1] to [p,q]\n",
        "        \n",
        "        decoder_output = self.decoder(x_t, r_C)\n",
        "        return decoder_output\n"
      ],
      "execution_count": null,
      "outputs": []
    },
    {
      "cell_type": "code",
      "metadata": {
        "id": "4MXlUut7bCxV"
      },
      "source": [
        "def init_weights(m):\n",
        "    if type(m) == nn.Linear:\n",
        "        torch.nn.init.xavier_uniform(m.weight)\n",
        "        m.bias.data.fill_(0.01)"
      ],
      "execution_count": null,
      "outputs": []
    },
    {
      "cell_type": "markdown",
      "metadata": {
        "id": "TbyLlW08bCxV"
      },
      "source": [
        "## 3. Create the optimizer and the loss for your model "
      ]
    },
    {
      "cell_type": "code",
      "metadata": {
        "colab": {
          "base_uri": "https://localhost:8080/"
        },
        "id": "H0EqckV7yGBB",
        "outputId": "c7f90dbc-fa27-4df3-ab89-5e9f9a6f02cf"
      },
      "source": [
        "import torch.optim as optim\n",
        "\n",
        "net = Net()\n",
        "net.apply(init_weights)\n",
        "loss = nn.MSELoss()\n",
        "lr = 0.001\n",
        "wd = 0.0001\n",
        "optimizer = optim.Adam(net.parameters(), lr=lr, weight_decay=wd)\n",
        "#optimizer = optim.SGD(net.parameters(), lr=lr)\n",
        "num_epochs = 30\n"
      ],
      "execution_count": null,
      "outputs": [
        {
          "output_type": "stream",
          "text": [
            "/usr/local/lib/python3.7/dist-packages/ipykernel_launcher.py:3: UserWarning: nn.init.xavier_uniform is now deprecated in favor of nn.init.xavier_uniform_.\n",
            "  This is separate from the ipykernel package so we can avoid doing imports until\n"
          ],
          "name": "stderr"
        }
      ]
    },
    {
      "cell_type": "markdown",
      "metadata": {
        "id": "QqnaUjD7bCxW"
      },
      "source": [
        "## 4. Write the training script that will train the model and print the training loss"
      ]
    },
    {
      "cell_type": "code",
      "metadata": {
        "id": "xMZLj-slya71"
      },
      "source": [
        "def my_plot(epochs, loss):\n",
        "    plt.title('Training loss per epoch')\n",
        "    plt.plot(epochs, loss)\n",
        "    \n",
        "def train(net, train_iter, loss, optimizer, epochs):\n",
        "    loss_values = []\n",
        "    for epoch in range(epochs):\n",
        "        running_loss = 0.0\n",
        "        epoch_loss = []\n",
        "        \n",
        "        for i, data in enumerate(train_iter,0):\n",
        "            # get the inputs of the dataset [x_t, y_t]\n",
        "            x_t, y_t = data\n",
        "            \n",
        "            # Create random subset x_c, y_c from x_t, y_t\n",
        "            rand = np.random.rand(Npts)\n",
        "            barrier = np.random.rand()\n",
        "            mask = rand < barrier\n",
        "            context = [k for k in range(len(mask)) if mask[k]==True]\n",
        "            unknown = [k for k in range(len(mask)) if mask[k]==False]\n",
        "            if len(context)==0: # To ensure that Nc =/= 0\n",
        "                context = unknown\n",
        "            x_c = x_t[:,context,:]\n",
        "            y_c = y_t[:,context,:]\n",
        "            \n",
        "            # Zero the parameter gradients\n",
        "            optimizer.zero_grad()\n",
        "\n",
        "            # Forward + Backward + Optimize\n",
        "            outputs = net(x_c, y_c, x_t)\n",
        "            l = loss(outputs, y_t)\n",
        "            l.backward()\n",
        "            optimizer.step()\n",
        "\n",
        "            # Print training loss \n",
        "            running_loss += l.item()\n",
        "            epoch_loss.append(l.item())\n",
        "            if i % 200 == 199:    # print loss every 200 mini-batches\n",
        "                print('[%d, %5d] loss: %.3f' % (epoch + 1, i + 1, running_loss / 200))\n",
        "                running_loss = 0.0\n",
        "        \n",
        "        loss_values.append(sum(epoch_loss)/len(epoch_loss))\n",
        "        \n",
        "    print('Finished training...')\n",
        "    my_plot(np.linspace(1,epochs,epochs).astype(int), loss_values)"
      ],
      "execution_count": null,
      "outputs": []
    },
    {
      "cell_type": "code",
      "metadata": {
        "colab": {
          "base_uri": "https://localhost:8080/",
          "height": 1000
        },
        "id": "XXISXHRBbCxX",
        "outputId": "51331fa8-1804-44d4-a618-b1c5eaaf8e45"
      },
      "source": [
        "train(net, train_dataloader, loss, optimizer, num_epochs)"
      ],
      "execution_count": null,
      "outputs": [
        {
          "output_type": "stream",
          "text": [
            "/usr/local/lib/python3.7/dist-packages/torch/nn/modules/loss.py:528: UserWarning: Using a target size (torch.Size([1, 40, 1])) that is different to the input size (torch.Size([40, 1])). This will likely lead to incorrect results due to broadcasting. Please ensure they have the same size.\n",
            "  return F.mse_loss(input, target, reduction=self.reduction)\n"
          ],
          "name": "stderr"
        },
        {
          "output_type": "stream",
          "text": [
            "[1,   200] loss: 0.502\n",
            "[1,   400] loss: 0.316\n",
            "[1,   600] loss: 0.285\n",
            "[1,   800] loss: 0.287\n",
            "[1,  1000] loss: 0.259\n",
            "[1,  1200] loss: 0.260\n",
            "[1,  1400] loss: 0.260\n",
            "[1,  1600] loss: 0.262\n",
            "[2,   200] loss: 0.249\n",
            "[2,   400] loss: 0.252\n",
            "[2,   600] loss: 0.255\n",
            "[2,   800] loss: 0.246\n",
            "[2,  1000] loss: 0.243\n",
            "[2,  1200] loss: 0.256\n",
            "[2,  1400] loss: 0.254\n",
            "[2,  1600] loss: 0.256\n",
            "[3,   200] loss: 0.251\n",
            "[3,   400] loss: 0.253\n",
            "[3,   600] loss: 0.247\n",
            "[3,   800] loss: 0.225\n",
            "[3,  1000] loss: 0.238\n",
            "[3,  1200] loss: 0.240\n",
            "[3,  1400] loss: 0.240\n",
            "[3,  1600] loss: 0.218\n",
            "[4,   200] loss: 0.224\n",
            "[4,   400] loss: 0.225\n",
            "[4,   600] loss: 0.228\n",
            "[4,   800] loss: 0.214\n",
            "[4,  1000] loss: 0.238\n",
            "[4,  1200] loss: 0.224\n",
            "[4,  1400] loss: 0.228\n",
            "[4,  1600] loss: 0.210\n",
            "[5,   200] loss: 0.213\n",
            "[5,   400] loss: 0.218\n",
            "[5,   600] loss: 0.204\n",
            "[5,   800] loss: 0.212\n",
            "[5,  1000] loss: 0.217\n",
            "[5,  1200] loss: 0.214\n",
            "[5,  1400] loss: 0.212\n",
            "[5,  1600] loss: 0.200\n",
            "[6,   200] loss: 0.199\n",
            "[6,   400] loss: 0.196\n",
            "[6,   600] loss: 0.199\n",
            "[6,   800] loss: 0.194\n",
            "[6,  1000] loss: 0.193\n",
            "[6,  1200] loss: 0.205\n",
            "[6,  1400] loss: 0.197\n",
            "[6,  1600] loss: 0.212\n",
            "[7,   200] loss: 0.197\n",
            "[7,   400] loss: 0.196\n",
            "[7,   600] loss: 0.201\n",
            "[7,   800] loss: 0.211\n",
            "[7,  1000] loss: 0.187\n",
            "[7,  1200] loss: 0.181\n",
            "[7,  1400] loss: 0.198\n",
            "[7,  1600] loss: 0.197\n",
            "[8,   200] loss: 0.190\n",
            "[8,   400] loss: 0.203\n",
            "[8,   600] loss: 0.186\n",
            "[8,   800] loss: 0.179\n",
            "[8,  1000] loss: 0.179\n",
            "[8,  1200] loss: 0.183\n",
            "[8,  1400] loss: 0.199\n",
            "[8,  1600] loss: 0.181\n",
            "[9,   200] loss: 0.180\n",
            "[9,   400] loss: 0.200\n",
            "[9,   600] loss: 0.201\n",
            "[9,   800] loss: 0.197\n",
            "[9,  1000] loss: 0.176\n",
            "[9,  1200] loss: 0.176\n",
            "[9,  1400] loss: 0.196\n",
            "[9,  1600] loss: 0.179\n",
            "[10,   200] loss: 0.193\n",
            "[10,   400] loss: 0.193\n",
            "[10,   600] loss: 0.194\n",
            "[10,   800] loss: 0.196\n",
            "[10,  1000] loss: 0.189\n",
            "[10,  1200] loss: 0.178\n",
            "[10,  1400] loss: 0.177\n",
            "[10,  1600] loss: 0.181\n",
            "[11,   200] loss: 0.195\n",
            "[11,   400] loss: 0.172\n",
            "[11,   600] loss: 0.185\n",
            "[11,   800] loss: 0.183\n",
            "[11,  1000] loss: 0.184\n",
            "[11,  1200] loss: 0.187\n",
            "[11,  1400] loss: 0.198\n",
            "[11,  1600] loss: 0.185\n",
            "[12,   200] loss: 0.193\n",
            "[12,   400] loss: 0.205\n",
            "[12,   600] loss: 0.184\n",
            "[12,   800] loss: 0.175\n",
            "[12,  1000] loss: 0.187\n",
            "[12,  1200] loss: 0.190\n",
            "[12,  1400] loss: 0.176\n",
            "[12,  1600] loss: 0.173\n",
            "[13,   200] loss: 0.188\n",
            "[13,   400] loss: 0.198\n",
            "[13,   600] loss: 0.193\n",
            "[13,   800] loss: 0.186\n",
            "[13,  1000] loss: 0.178\n",
            "[13,  1200] loss: 0.179\n",
            "[13,  1400] loss: 0.195\n",
            "[13,  1600] loss: 0.178\n",
            "[14,   200] loss: 0.171\n",
            "[14,   400] loss: 0.173\n",
            "[14,   600] loss: 0.199\n",
            "[14,   800] loss: 0.178\n",
            "[14,  1000] loss: 0.185\n",
            "[14,  1200] loss: 0.174\n",
            "[14,  1400] loss: 0.193\n",
            "[14,  1600] loss: 0.187\n",
            "[15,   200] loss: 0.206\n",
            "[15,   400] loss: 0.177\n",
            "[15,   600] loss: 0.185\n",
            "[15,   800] loss: 0.189\n",
            "[15,  1000] loss: 0.171\n",
            "[15,  1200] loss: 0.195\n",
            "[15,  1400] loss: 0.206\n",
            "[15,  1600] loss: 0.163\n",
            "[16,   200] loss: 0.165\n",
            "[16,   400] loss: 0.175\n",
            "[16,   600] loss: 0.184\n",
            "[16,   800] loss: 0.190\n",
            "[16,  1000] loss: 0.179\n",
            "[16,  1200] loss: 0.194\n",
            "[16,  1400] loss: 0.169\n",
            "[16,  1600] loss: 0.175\n",
            "[17,   200] loss: 0.181\n",
            "[17,   400] loss: 0.185\n",
            "[17,   600] loss: 0.204\n",
            "[17,   800] loss: 0.163\n",
            "[17,  1000] loss: 0.177\n",
            "[17,  1200] loss: 0.168\n",
            "[17,  1400] loss: 0.183\n",
            "[17,  1600] loss: 0.168\n",
            "[18,   200] loss: 0.193\n",
            "[18,   400] loss: 0.178\n",
            "[18,   600] loss: 0.178\n",
            "[18,   800] loss: 0.178\n",
            "[18,  1000] loss: 0.195\n",
            "[18,  1200] loss: 0.170\n",
            "[18,  1400] loss: 0.171\n",
            "[18,  1600] loss: 0.193\n",
            "[19,   200] loss: 0.158\n",
            "[19,   400] loss: 0.206\n",
            "[19,   600] loss: 0.177\n",
            "[19,   800] loss: 0.165\n",
            "[19,  1000] loss: 0.159\n",
            "[19,  1200] loss: 0.191\n",
            "[19,  1400] loss: 0.169\n",
            "[19,  1600] loss: 0.173\n",
            "[20,   200] loss: 0.176\n",
            "[20,   400] loss: 0.202\n",
            "[20,   600] loss: 0.160\n",
            "[20,   800] loss: 0.172\n",
            "[20,  1000] loss: 0.184\n",
            "[20,  1200] loss: 0.179\n",
            "[20,  1400] loss: 0.175\n",
            "[20,  1600] loss: 0.175\n",
            "[21,   200] loss: 0.178\n",
            "[21,   400] loss: 0.177\n",
            "[21,   600] loss: 0.171\n",
            "[21,   800] loss: 0.187\n",
            "[21,  1000] loss: 0.171\n",
            "[21,  1200] loss: 0.195\n",
            "[21,  1400] loss: 0.159\n",
            "[21,  1600] loss: 0.161\n",
            "[22,   200] loss: 0.176\n",
            "[22,   400] loss: 0.203\n",
            "[22,   600] loss: 0.167\n",
            "[22,   800] loss: 0.176\n",
            "[22,  1000] loss: 0.174\n",
            "[22,  1200] loss: 0.167\n",
            "[22,  1400] loss: 0.175\n",
            "[22,  1600] loss: 0.146\n",
            "[23,   200] loss: 0.188\n",
            "[23,   400] loss: 0.155\n",
            "[23,   600] loss: 0.163\n",
            "[23,   800] loss: 0.167\n",
            "[23,  1000] loss: 0.186\n",
            "[23,  1200] loss: 0.191\n",
            "[23,  1400] loss: 0.169\n",
            "[23,  1600] loss: 0.197\n",
            "[24,   200] loss: 0.187\n",
            "[24,   400] loss: 0.154\n",
            "[24,   600] loss: 0.165\n",
            "[24,   800] loss: 0.181\n",
            "[24,  1000] loss: 0.185\n",
            "[24,  1200] loss: 0.176\n",
            "[24,  1400] loss: 0.168\n",
            "[24,  1600] loss: 0.164\n",
            "[25,   200] loss: 0.176\n",
            "[25,   400] loss: 0.160\n",
            "[25,   600] loss: 0.168\n",
            "[25,   800] loss: 0.177\n",
            "[25,  1000] loss: 0.177\n",
            "[25,  1200] loss: 0.187\n",
            "[25,  1400] loss: 0.168\n",
            "[25,  1600] loss: 0.179\n",
            "[26,   200] loss: 0.162\n",
            "[26,   400] loss: 0.159\n",
            "[26,   600] loss: 0.173\n",
            "[26,   800] loss: 0.173\n",
            "[26,  1000] loss: 0.193\n",
            "[26,  1200] loss: 0.173\n",
            "[26,  1400] loss: 0.174\n",
            "[26,  1600] loss: 0.179\n",
            "[27,   200] loss: 0.182\n",
            "[27,   400] loss: 0.169\n",
            "[27,   600] loss: 0.166\n",
            "[27,   800] loss: 0.174\n",
            "[27,  1000] loss: 0.169\n",
            "[27,  1200] loss: 0.169\n",
            "[27,  1400] loss: 0.181\n",
            "[27,  1600] loss: 0.186\n",
            "[28,   200] loss: 0.186\n",
            "[28,   400] loss: 0.173\n",
            "[28,   600] loss: 0.168\n",
            "[28,   800] loss: 0.191\n",
            "[28,  1000] loss: 0.164\n",
            "[28,  1200] loss: 0.174\n",
            "[28,  1400] loss: 0.180\n",
            "[28,  1600] loss: 0.158\n",
            "[29,   200] loss: 0.170\n",
            "[29,   400] loss: 0.170\n",
            "[29,   600] loss: 0.156\n",
            "[29,   800] loss: 0.160\n",
            "[29,  1000] loss: 0.192\n",
            "[29,  1200] loss: 0.172\n",
            "[29,  1400] loss: 0.167\n",
            "[29,  1600] loss: 0.185\n",
            "[30,   200] loss: 0.181\n",
            "[30,   400] loss: 0.165\n",
            "[30,   600] loss: 0.177\n",
            "[30,   800] loss: 0.172\n",
            "[30,  1000] loss: 0.189\n",
            "[30,  1200] loss: 0.157\n",
            "[30,  1400] loss: 0.181\n",
            "[30,  1600] loss: 0.175\n",
            "Finished training...\n"
          ],
          "name": "stdout"
        },
        {
          "output_type": "display_data",
          "data": {
            "image/png": "[encoded data removed]",
            "text/plain": [
              "<Figure size 432x288 with 1 Axes>"
            ]
          },
          "metadata": {
            "tags": [],
            "needs_background": "light"
          }
        }
      ]
    },
    {
      "cell_type": "markdown",
      "metadata": {
        "id": "Q9FQBX2QbCxX"
      },
      "source": [
        "## 5(a). Evaluate the model on some validation data"
      ]
    },
    {
      "cell_type": "code",
      "metadata": {
        "id": "Z2bDuzpL86GF",
        "colab": {
          "base_uri": "https://localhost:8080/"
        },
        "outputId": "11d8405b-064d-4cb4-a230-3d2f654bc1a2"
      },
      "source": [
        "# Loss function on validation data\n",
        "running_loss = 0.0\n",
        "\n",
        "for i, data in enumerate(val_dataloader, 0):\n",
        "        # get the inputs of the dataset [x_t, y_t]\n",
        "        x_t,  y_t  = data\n",
        "\n",
        "        # Create random subset x_c, y_c from x_t, y_t\n",
        "        rand = np.random.rand(Npts)\n",
        "        barrier = np.random.rand()\n",
        "        mask = rand < barrier\n",
        "        context = [k for k in range(len(mask)) if mask[k]==True]\n",
        "        unknown = [k for k in range(len(mask)) if mask[k]==False]\n",
        "        if len(context)==0: # To ensure that Nc =/= 0\n",
        "            context = unknown\n",
        "        x_c = x_t[:,context,:]\n",
        "        y_c = y_t[:,context,:]\n",
        "        \n",
        "        net.eval()\n",
        "        with torch.no_grad():\n",
        "            outputs = net(x_c, y_c ,x_t)\n",
        "        l = loss(outputs, y_t)\n",
        "        running_loss += l.item()\n",
        "        \n",
        "print('Validation loss: {}'.format(running_loss/len(val_dataloader)))"
      ],
      "execution_count": null,
      "outputs": [
        {
          "output_type": "stream",
          "text": [
            "/usr/local/lib/python3.7/dist-packages/torch/nn/modules/loss.py:528: UserWarning: Using a target size (torch.Size([1, 40, 1])) that is different to the input size (torch.Size([40, 1])). This will likely lead to incorrect results due to broadcasting. Please ensure they have the same size.\n",
            "  return F.mse_loss(input, target, reduction=self.reduction)\n"
          ],
          "name": "stderr"
        },
        {
          "output_type": "stream",
          "text": [
            "Validation loss: 0.17068148600752464\n"
          ],
          "name": "stdout"
        }
      ]
    },
    {
      "cell_type": "code",
      "metadata": {
        "id": "oFMMzuqwbCxX",
        "colab": {
          "base_uri": "https://localhost:8080/",
          "height": 285
        },
        "outputId": "b1c5aac8-b3ca-48ba-ac33-a98f10e4999c"
      },
      "source": [
        "import matplotlib.pyplot as plt\n",
        "\n",
        "dataloader_iterator = iter(val_dataloader)\n",
        "x_t,  y_t  = next(dataloader_iterator)\n",
        "\n",
        "# Create random subset x_c, y_c from x_t, y_t\n",
        "rand = np.random.rand(Npts)\n",
        "barrier = np.random.rand()\n",
        "mask = rand < barrier\n",
        "context = [k for k in range(len(mask)) if mask[k]==True]\n",
        "unknown = [k for k in range(len(mask)) if mask[k]==False]\n",
        "if len(context)==0: # To ensure that Nc =/= 0\n",
        "    context = unknown\n",
        "x_c = x_t[:,context,:]\n",
        "y_c = y_t[:,context,:]\n",
        "plt.xlim(-2,2)\n",
        "outputs = net(x_c, y_c ,x_t)\n",
        "\n",
        "plt.scatter(x_c[0,:,0].detach().numpy(),y_c[0,:,0].detach().numpy(), label = \"True\")\n",
        "plt.scatter(x_t[0,:,0].detach().numpy(),outputs[:,0].detach().numpy(), label = \"Predicted\")\n",
        "\n",
        "plt.legend()\n",
        "plt.plot()"
      ],
      "execution_count": null,
      "outputs": [
        {
          "output_type": "execute_result",
          "data": {
            "text/plain": [
              "[]"
            ]
          },
          "metadata": {
            "tags": []
          },
          "execution_count": 285
        },
        {
          "output_type": "display_data",
          "data": {
            "image/png": "[encoded data removed]",
            "text/plain": [
              "<Figure size 432x288 with 1 Axes>"
            ]
          },
          "metadata": {
            "tags": [],
            "needs_background": "light"
          }
        }
      ]
    },
    {
      "cell_type": "markdown",
      "metadata": {
        "id": "uEUnK3byu6XJ"
      },
      "source": [
        "# Test data  \n",
        "\n",
        "* Test data are stored in a dictionary where each key has the data for a single function $f_a$. We have generated 6 different functions named as `function_num_1`, `function_num_2` and so on. "
      ]
    },
    {
      "cell_type": "code",
      "metadata": {
        "id": "UHqvcEb6bCxY"
      },
      "source": [
        "import pickle\n",
        "path_to_the_pickle = '/content/test_data.pkl'\n",
        "#path_to_the_pickle = 'test_data.pkl'\n",
        "\n",
        "test_data =pickle.load(open(path_to_the_pickle,'rb'))\n",
        "# 6 test functions\n",
        "i = 2 # i=1,..6\n",
        "name= 'function_num_{}'.format(i)\n",
        "x_c=test_data[name]['context_pairs'][0]\n",
        "y_c=test_data[name]['context_pairs'][1]\n",
        "x_t =test_data[name]['x']"
      ],
      "execution_count": null,
      "outputs": []
    },
    {
      "cell_type": "markdown",
      "metadata": {
        "id": "n7CjJcTnbCxY"
      },
      "source": [
        "## 5(b). Plot some predictions"
      ]
    },
    {
      "cell_type": "code",
      "metadata": {
        "colab": {
          "base_uri": "https://localhost:8080/",
          "height": 282
        },
        "id": "DYi3mf8HbCxY",
        "outputId": "1e82bd5d-eb81-4789-f068-648218b9a095"
      },
      "source": [
        "x_c = test_data['function_num_1']['context_pairs'][0]\n",
        "y_c = test_data['function_num_1']['context_pairs'][1]\n",
        "x_t = test_data['function_num_1']['x']\n",
        "\n",
        "outputs = net(x_c, y_c ,x_t)\n",
        "plt.xlim(-2,2)\n",
        "\n",
        "plt.scatter(x_c[0,:,0].detach().numpy(),y_c[0,:,0].detach().numpy(), label = \"True\")\n",
        "plt.scatter(x_t[0,:,0].detach().numpy(),outputs[:,0].detach().numpy(), label = \"Predicted\")\n",
        "\n",
        "plt.legend()\n",
        "plt.plot()"
      ],
      "execution_count": null,
      "outputs": [
        {
          "output_type": "execute_result",
          "data": {
            "text/plain": [
              "[]"
            ]
          },
          "metadata": {
            "tags": []
          },
          "execution_count": 287
        },
        {
          "output_type": "display_data",
          "data": {
            "image/png": "[encoded data removed]",
            "text/plain": [
              "<Figure size 432x288 with 1 Axes>"
            ]
          },
          "metadata": {
            "tags": [],
            "needs_background": "light"
          }
        }
      ]
    },
    {
      "cell_type": "code",
      "metadata": {
        "colab": {
          "base_uri": "https://localhost:8080/",
          "height": 282
        },
        "id": "E2jZqwaMbCxY",
        "outputId": "b13374c8-035a-41a5-e913-bf653bbe3470"
      },
      "source": [
        "x_c = test_data['function_num_2']['context_pairs'][0]\n",
        "y_c = test_data['function_num_2']['context_pairs'][1]\n",
        "x_t = test_data['function_num_2']['x']\n",
        "\n",
        "outputs = net(x_c, y_c ,x_t)\n",
        "plt.xlim(-2,2)\n",
        "\n",
        "plt.scatter(x_c[0,:,0].detach().numpy(),y_c[0,:,0].detach().numpy(), label = \"True\")\n",
        "plt.scatter(x_t[0,:,0].detach().numpy(),outputs[:,0].detach().numpy(), label = \"Predicted\")\n",
        "\n",
        "plt.legend()\n",
        "plt.plot()"
      ],
      "execution_count": null,
      "outputs": [
        {
          "output_type": "execute_result",
          "data": {
            "text/plain": [
              "[]"
            ]
          },
          "metadata": {
            "tags": []
          },
          "execution_count": 288
        },
        {
          "output_type": "display_data",
          "data": {
            "image/png": "[encoded data removed]",
            "text/plain": [
              "<Figure size 432x288 with 1 Axes>"
            ]
          },
          "metadata": {
            "tags": [],
            "needs_background": "light"
          }
        }
      ]
    },
    {
      "cell_type": "code",
      "metadata": {
        "colab": {
          "base_uri": "https://localhost:8080/",
          "height": 282
        },
        "id": "4IsNhJS5bCxZ",
        "outputId": "d413275f-173c-412c-b981-b258e865cb9c"
      },
      "source": [
        "x_c = test_data['function_num_3']['context_pairs'][0]\n",
        "y_c = test_data['function_num_3']['context_pairs'][1]\n",
        "x_t = test_data['function_num_3']['x']\n",
        "\n",
        "outputs = net(x_c, y_c ,x_t)\n",
        "plt.xlim(-2,2)\n",
        "\n",
        "plt.scatter(x_c[0,:,0].detach().numpy(),y_c[0,:,0].detach().numpy(), label = \"True\")\n",
        "plt.scatter(x_t[0,:,0].detach().numpy(),outputs[:,0].detach().numpy(), label = \"Predicted\")\n",
        "\n",
        "plt.legend()\n",
        "plt.plot()"
      ],
      "execution_count": null,
      "outputs": [
        {
          "output_type": "execute_result",
          "data": {
            "text/plain": [
              "[]"
            ]
          },
          "metadata": {
            "tags": []
          },
          "execution_count": 293
        },
        {
          "output_type": "display_data",
          "data": {
            "image/png": "[encoded data removed]",
            "text/plain": [
              "<Figure size 432x288 with 1 Axes>"
            ]
          },
          "metadata": {
            "tags": [],
            "needs_background": "light"
          }
        }
      ]
    },
    {
      "cell_type": "code",
      "metadata": {
        "colab": {
          "base_uri": "https://localhost:8080/",
          "height": 282
        },
        "id": "zY7ZnKjxbCxZ",
        "outputId": "3b72b27a-69d2-4dfb-eadf-6421800583d4"
      },
      "source": [
        "x_c = test_data['function_num_4']['context_pairs'][0]\n",
        "y_c = test_data['function_num_4']['context_pairs'][1]\n",
        "x_t = test_data['function_num_4']['x']\n",
        "\n",
        "outputs = net(x_c, y_c ,x_t)\n",
        "plt.xlim(-2,2)\n",
        "\n",
        "plt.scatter(x_c[0,:,0].detach().numpy(),y_c[0,:,0].detach().numpy(), label = \"True\")\n",
        "plt.scatter(x_t[0,:,0].detach().numpy(),outputs[:,0].detach().numpy(), label = \"Predicted\")\n",
        "\n",
        "plt.legend()\n",
        "plt.plot()"
      ],
      "execution_count": null,
      "outputs": [
        {
          "output_type": "execute_result",
          "data": {
            "text/plain": [
              "[]"
            ]
          },
          "metadata": {
            "tags": []
          },
          "execution_count": 290
        },
        {
          "output_type": "display_data",
          "data": {
            "image/png": "[encoded data removed]",
            "text/plain": [
              "<Figure size 432x288 with 1 Axes>"
            ]
          },
          "metadata": {
            "tags": [],
            "needs_background": "light"
          }
        }
      ]
    },
    {
      "cell_type": "code",
      "metadata": {
        "colab": {
          "base_uri": "https://localhost:8080/",
          "height": 282
        },
        "id": "QY3JcKUobCxZ",
        "outputId": "cfade84a-0343-412a-f87c-8ff3ba065257"
      },
      "source": [
        "x_c = test_data['function_num_5']['context_pairs'][0]\n",
        "y_c = test_data['function_num_5']['context_pairs'][1]\n",
        "x_t = test_data['function_num_5']['x']\n",
        "\n",
        "outputs = net(x_c, y_c ,x_t)\n",
        "plt.xlim(-2,2)\n",
        "\n",
        "plt.scatter(x_c[0,:,0].detach().numpy(),y_c[0,:,0].detach().numpy(), label = \"True\")\n",
        "plt.scatter(x_t[0,:,0].detach().numpy(),outputs[:,0].detach().numpy(), label = \"Predicted\")\n",
        "\n",
        "plt.legend()\n",
        "plt.plot()"
      ],
      "execution_count": null,
      "outputs": [
        {
          "output_type": "execute_result",
          "data": {
            "text/plain": [
              "[]"
            ]
          },
          "metadata": {
            "tags": []
          },
          "execution_count": 291
        },
        {
          "output_type": "display_data",
          "data": {
            "image/png": "[encoded data removed]",
            "text/plain": [
              "<Figure size 432x288 with 1 Axes>"
            ]
          },
          "metadata": {
            "tags": [],
            "needs_background": "light"
          }
        }
      ]
    },
    {
      "cell_type": "code",
      "metadata": {
        "colab": {
          "base_uri": "https://localhost:8080/",
          "height": 282
        },
        "id": "3LmyslssbCxZ",
        "outputId": "b830dc7f-f168-4a9f-db2f-4d86188cf4e1"
      },
      "source": [
        "x_c = test_data['function_num_6']['context_pairs'][0]\n",
        "y_c = test_data['function_num_6']['context_pairs'][1]\n",
        "x_t = test_data['function_num_6']['x']\n",
        "\n",
        "outputs = net(x_c, y_c ,x_t)\n",
        "plt.xlim(-2,2)\n",
        "\n",
        "plt.scatter(x_c[0,:,0].detach().numpy(),y_c[0,:,0].detach().numpy(), label = \"True\")\n",
        "plt.scatter(x_t[0,:,0].detach().numpy(),outputs[:,0].detach().numpy(), label = \"Predicted\")\n",
        "\n",
        "plt.legend()\n",
        "plt.plot()"
      ],
      "execution_count": null,
      "outputs": [
        {
          "output_type": "execute_result",
          "data": {
            "text/plain": [
              "[]"
            ]
          },
          "metadata": {
            "tags": []
          },
          "execution_count": 292
        },
        {
          "output_type": "display_data",
          "data": {
            "image/png": "[encoded data removed]",
            "text/plain": [
              "<Figure size 432x288 with 1 Axes>"
            ]
          },
          "metadata": {
            "tags": [],
            "needs_background": "light"
          }
        }
      ]
    },
    {
      "cell_type": "code",
      "metadata": {
        "id": "BMwcsB1ibCxa"
      },
      "source": [
        ""
      ],
      "execution_count": null,
      "outputs": []
    }
  ]
}